{
 "cells": [
  {
   "cell_type": "code",
   "execution_count": 7,
   "metadata": {},
   "outputs": [
    {
     "name": "stderr",
     "output_type": "stream",
     "text": [
      "C:\\Users\\user\\anaconda3\\lib\\site-packages\\ipykernel_launcher.py:9: SettingWithCopyWarning: \n",
      "A value is trying to be set on a copy of a slice from a DataFrame\n",
      "\n",
      "See the caveats in the documentation: https://pandas.pydata.org/pandas-docs/stable/user_guide/indexing.html#returning-a-view-versus-a-copy\n",
      "  if __name__ == '__main__':\n"
     ]
    },
    {
     "data": {
      "text/plain": [
       "essay_id                                                     14836\n",
       "essay_set                                                        6\n",
       "essay            The builders of the Empire State Building face...\n",
       "domain1_score                                                    4\n",
       "Name: 8886, dtype: object"
      ]
     },
     "execution_count": 7,
     "metadata": {},
     "output_type": "execute_result"
    }
   ],
   "source": [
    "import pandas as pd\n",
    "import spacy\n",
    "dataframe = pd.read_csv('training_set_rel3.tsv', encoding = 'latin-1',sep='\\t')\n",
    "dataframe = dataframe[['essay_id','essay_set','essay','domain1_score']]\n",
    "nlp = spacy.load('en_core_web_md')\n",
    "essays = dataframe\n",
    "# ----------- Isolate essays from the 6th set ------------ #\n",
    "essays = essays[(essays['essay_set'] == 6)]\n",
    "essays.dropna(axis=1, how='all', inplace=True)\n",
    "maxdf = essays[essays.domain1_score == essays.domain1_score.max()].iloc[0]\n",
    "maxdf"
   ]
  },
  {
   "cell_type": "code",
   "execution_count": 8,
   "metadata": {},
   "outputs": [
    {
     "data": {
      "text/plain": [
       "\"The builders of the Empire State Building faced many obstacles while attempting to allow dirigibles to dock there. one obstacle was that the dirigible would have to be held by a single cable tether. This would add stress to the building's frame in order to make the frame or sturdy, there was modifications to the building's framework which cost over sixty thousand dollars. Another obstacle the builders faced was the dirigible's use of hydrogen which is highly flammable. Since New York was a densely populated area, this would not work out well. The dirigibles would also have to be weighted down in the back with lead weights. In order to do so, the lead weights would end up dangling high above pedestrians on the street which was a safety issue one last obstacle the builders faced was the law against airships flying too low over urban areas. This law made it illegal for a ship to ever tie up to the building or approach the area.\""
      ]
     },
     "execution_count": 8,
     "metadata": {},
     "output_type": "execute_result"
    }
   ],
   "source": [
    "maxdf.essay"
   ]
  },
  {
   "cell_type": "code",
   "execution_count": 9,
   "metadata": {},
   "outputs": [],
   "source": [
    "from rake_nltk import Rake\n",
    "r = Rake(max_length=1) # Uses stopwords for english from NLTK, and all puntuation characters.\n",
    "r.extract_keywords_from_text(maxdf.essay)\n",
    "ini = r.get_ranked_phrases()\n"
   ]
  },
  {
   "cell_type": "code",
   "execution_count": 12,
   "metadata": {},
   "outputs": [
    {
     "data": {
      "text/plain": [
       "{'H',\n",
       " 'adjustment',\n",
       " 'airship',\n",
       " 'alteration',\n",
       " 'approach',\n",
       " 'area',\n",
       " 'assay',\n",
       " 'atomic_number_1',\n",
       " 'attack',\n",
       " 'attempt',\n",
       " 'back',\n",
       " 'brand',\n",
       " 'builder',\n",
       " 'building',\n",
       " 'burden',\n",
       " 'burthen',\n",
       " 'cost',\n",
       " 'country',\n",
       " 'depression',\n",
       " 'detergent_builder',\n",
       " 'dirigible',\n",
       " 'dock',\n",
       " 'dorsum',\n",
       " 'edifice',\n",
       " 'employment',\n",
       " 'essay',\n",
       " 'exercise',\n",
       " 'footer',\n",
       " 'frame',\n",
       " 'framework',\n",
       " 'hardy',\n",
       " 'hold',\n",
       " 'hydrogen',\n",
       " 'illegal',\n",
       " 'jurisprudence',\n",
       " 'keep',\n",
       " 'law',\n",
       " 'low',\n",
       " 'maintain',\n",
       " 'make',\n",
       " 'model',\n",
       " 'modification',\n",
       " 'order',\n",
       " 'pedestrian',\n",
       " 'plan_of_attack',\n",
       " 'seek',\n",
       " 'ship',\n",
       " 'stalwart',\n",
       " 'stout',\n",
       " 'street',\n",
       " 'sturdy',\n",
       " 'theoretical_account',\n",
       " 'try',\n",
       " 'usage',\n",
       " 'use',\n",
       " 'utilisation',\n",
       " 'utilization',\n",
       " 'walker',\n",
       " 'weight',\n",
       " 'weight_down',\n",
       " 'well',\n",
       " 'work'}"
      ]
     },
     "execution_count": 12,
     "metadata": {},
     "output_type": "execute_result"
    }
   ],
   "source": [
    "from nltk.corpus import wordnet\n",
    "from nltk.stem import WordNetLemmatizer\n",
    "lemmatizer = WordNetLemmatizer()\n",
    "fin = set()\n",
    "for word in ini:\n",
    "    syns = wordnet.synsets(lemmatizer.lemmatize(word))\n",
    "    if len(syns) != 0:\n",
    "        syn = syns[0]\n",
    "        lemmas = syn.lemmas()\n",
    "        for lemma in lemmas:\n",
    "            fin.add(lemma.name())\n",
    "fin"
   ]
  },
  {
   "cell_type": "code",
   "execution_count": 14,
   "metadata": {},
   "outputs": [
    {
     "data": {
      "text/html": [
       "<div>\n",
       "<style scoped>\n",
       "    .dataframe tbody tr th:only-of-type {\n",
       "        vertical-align: middle;\n",
       "    }\n",
       "\n",
       "    .dataframe tbody tr th {\n",
       "        vertical-align: top;\n",
       "    }\n",
       "\n",
       "    .dataframe thead th {\n",
       "        text-align: right;\n",
       "    }\n",
       "</style>\n",
       "<table border=\"1\" class=\"dataframe\">\n",
       "  <thead>\n",
       "    <tr style=\"text-align: right;\">\n",
       "      <th></th>\n",
       "      <th>essay_id</th>\n",
       "      <th>essay_set</th>\n",
       "      <th>essay</th>\n",
       "      <th>domain1_score</th>\n",
       "      <th>wordnetscore</th>\n",
       "    </tr>\n",
       "  </thead>\n",
       "  <tbody>\n",
       "    <tr>\n",
       "      <th>8884</th>\n",
       "      <td>14834</td>\n",
       "      <td>6</td>\n",
       "      <td>There were many obstacles that the builders fa...</td>\n",
       "      <td>2</td>\n",
       "      <td>3</td>\n",
       "    </tr>\n",
       "    <tr>\n",
       "      <th>8885</th>\n",
       "      <td>14835</td>\n",
       "      <td>6</td>\n",
       "      <td>Him from the start, there would have been many...</td>\n",
       "      <td>3</td>\n",
       "      <td>6</td>\n",
       "    </tr>\n",
       "    <tr>\n",
       "      <th>8886</th>\n",
       "      <td>14836</td>\n",
       "      <td>6</td>\n",
       "      <td>The builders of the Empire State Building face...</td>\n",
       "      <td>4</td>\n",
       "      <td>24</td>\n",
       "    </tr>\n",
       "    <tr>\n",
       "      <th>8887</th>\n",
       "      <td>14837</td>\n",
       "      <td>6</td>\n",
       "      <td>In the passage The Mooring Mast by Marcia Amid...</td>\n",
       "      <td>1</td>\n",
       "      <td>4</td>\n",
       "    </tr>\n",
       "    <tr>\n",
       "      <th>8888</th>\n",
       "      <td>14838</td>\n",
       "      <td>6</td>\n",
       "      <td>The builders of the Empire State Building face...</td>\n",
       "      <td>3</td>\n",
       "      <td>8</td>\n",
       "    </tr>\n",
       "  </tbody>\n",
       "</table>\n",
       "</div>"
      ],
      "text/plain": [
       "      essay_id  essay_set                                              essay  \\\n",
       "8884     14834          6  There were many obstacles that the builders fa...   \n",
       "8885     14835          6  Him from the start, there would have been many...   \n",
       "8886     14836          6  The builders of the Empire State Building face...   \n",
       "8887     14837          6  In the passage The Mooring Mast by Marcia Amid...   \n",
       "8888     14838          6  The builders of the Empire State Building face...   \n",
       "\n",
       "      domain1_score  wordnetscore  \n",
       "8884              2             3  \n",
       "8885              3             6  \n",
       "8886              4            24  \n",
       "8887              1             4  \n",
       "8888              3             8  "
      ]
     },
     "execution_count": 14,
     "metadata": {},
     "output_type": "execute_result"
    }
   ],
   "source": [
    "def wordnettopic(df):\n",
    "    col = []\n",
    "    for essay in df['essay']:\n",
    "        r.extract_keywords_from_text(essay)\n",
    "        ini = r.get_ranked_phrases()\n",
    "        tot = 0\n",
    "        for word in ini:\n",
    "            if lemmatizer.lemmatize(word) in fin:\n",
    "                tot+=1\n",
    "        col.append(tot)\n",
    "    return df.assign(wordnetscore = col)\n",
    "essays = wordnettopic(essays)\n",
    "essays.head()"
   ]
  },
  {
   "cell_type": "code",
   "execution_count": 15,
   "metadata": {},
   "outputs": [
    {
     "data": {
      "text/plain": [
       "0.6292573944197947"
      ]
     },
     "execution_count": 15,
     "metadata": {},
     "output_type": "execute_result"
    }
   ],
   "source": [
    "essays['domain1_score'].corr(essays['wordnetscore'])"
   ]
  },
  {
   "cell_type": "code",
   "execution_count": null,
   "metadata": {},
   "outputs": [],
   "source": []
  }
 ],
 "metadata": {
  "kernelspec": {
   "display_name": "Python 3",
   "language": "python",
   "name": "python3"
  },
  "language_info": {
   "codemirror_mode": {
    "name": "ipython",
    "version": 3
   },
   "file_extension": ".py",
   "mimetype": "text/x-python",
   "name": "python",
   "nbconvert_exporter": "python",
   "pygments_lexer": "ipython3",
   "version": "3.8.5"
  }
 },
 "nbformat": 4,
 "nbformat_minor": 4
}
