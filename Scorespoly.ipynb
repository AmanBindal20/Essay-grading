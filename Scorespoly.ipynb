{
 "cells": [
  {
   "cell_type": "code",
   "execution_count": 1,
   "metadata": {},
   "outputs": [
    {
     "data": {
      "text/html": [
       "<div>\n",
       "<style scoped>\n",
       "    .dataframe tbody tr th:only-of-type {\n",
       "        vertical-align: middle;\n",
       "    }\n",
       "\n",
       "    .dataframe tbody tr th {\n",
       "        vertical-align: top;\n",
       "    }\n",
       "\n",
       "    .dataframe thead th {\n",
       "        text-align: right;\n",
       "    }\n",
       "</style>\n",
       "<table border=\"1\" class=\"dataframe\">\n",
       "  <thead>\n",
       "    <tr style=\"text-align: right;\">\n",
       "      <th></th>\n",
       "      <th>misspelt</th>\n",
       "      <th>correct</th>\n",
       "      <th>length</th>\n",
       "      <th>lexical_diversity</th>\n",
       "      <th>n_sentences</th>\n",
       "      <th>nouns</th>\n",
       "      <th>verbs</th>\n",
       "      <th>adverbs</th>\n",
       "      <th>adjectives</th>\n",
       "      <th>wordnetscore</th>\n",
       "    </tr>\n",
       "    <tr>\n",
       "      <th>essay_id</th>\n",
       "      <th></th>\n",
       "      <th></th>\n",
       "      <th></th>\n",
       "      <th></th>\n",
       "      <th></th>\n",
       "      <th></th>\n",
       "      <th></th>\n",
       "      <th></th>\n",
       "      <th></th>\n",
       "      <th></th>\n",
       "    </tr>\n",
       "  </thead>\n",
       "  <tbody>\n",
       "    <tr>\n",
       "      <th>14834</th>\n",
       "      <td>6</td>\n",
       "      <td>116</td>\n",
       "      <td>123</td>\n",
       "      <td>1.37</td>\n",
       "      <td>9</td>\n",
       "      <td>28</td>\n",
       "      <td>14</td>\n",
       "      <td>8</td>\n",
       "      <td>10</td>\n",
       "      <td>3</td>\n",
       "    </tr>\n",
       "    <tr>\n",
       "      <th>14835</th>\n",
       "      <td>11</td>\n",
       "      <td>169</td>\n",
       "      <td>180</td>\n",
       "      <td>1.55</td>\n",
       "      <td>10</td>\n",
       "      <td>41</td>\n",
       "      <td>23</td>\n",
       "      <td>12</td>\n",
       "      <td>14</td>\n",
       "      <td>6</td>\n",
       "    </tr>\n",
       "    <tr>\n",
       "      <th>14836</th>\n",
       "      <td>3</td>\n",
       "      <td>163</td>\n",
       "      <td>169</td>\n",
       "      <td>1.62</td>\n",
       "      <td>9</td>\n",
       "      <td>39</td>\n",
       "      <td>23</td>\n",
       "      <td>10</td>\n",
       "      <td>9</td>\n",
       "      <td>24</td>\n",
       "    </tr>\n",
       "    <tr>\n",
       "      <th>14837</th>\n",
       "      <td>18</td>\n",
       "      <td>175</td>\n",
       "      <td>199</td>\n",
       "      <td>1.69</td>\n",
       "      <td>11</td>\n",
       "      <td>35</td>\n",
       "      <td>26</td>\n",
       "      <td>7</td>\n",
       "      <td>4</td>\n",
       "      <td>4</td>\n",
       "    </tr>\n",
       "    <tr>\n",
       "      <th>14838</th>\n",
       "      <td>4</td>\n",
       "      <td>158</td>\n",
       "      <td>162</td>\n",
       "      <td>1.74</td>\n",
       "      <td>11</td>\n",
       "      <td>35</td>\n",
       "      <td>26</td>\n",
       "      <td>8</td>\n",
       "      <td>15</td>\n",
       "      <td>8</td>\n",
       "    </tr>\n",
       "  </tbody>\n",
       "</table>\n",
       "</div>"
      ],
      "text/plain": [
       "          misspelt  correct  length  lexical_diversity  n_sentences  nouns  \\\n",
       "essay_id                                                                     \n",
       "14834            6      116     123               1.37            9     28   \n",
       "14835           11      169     180               1.55           10     41   \n",
       "14836            3      163     169               1.62            9     39   \n",
       "14837           18      175     199               1.69           11     35   \n",
       "14838            4      158     162               1.74           11     35   \n",
       "\n",
       "          verbs  adverbs  adjectives  wordnetscore  \n",
       "essay_id                                            \n",
       "14834        14        8          10             3  \n",
       "14835        23       12          14             6  \n",
       "14836        23       10           9            24  \n",
       "14837        26        7           4             4  \n",
       "14838        26        8          15             8  "
      ]
     },
     "execution_count": 1,
     "metadata": {},
     "output_type": "execute_result"
    }
   ],
   "source": [
    "import pandas as pd\n",
    "essays = pd.read_csv('trained.csv')\n",
    "essays.set_index('essay_id',inplace=True, drop=True)\n",
    "\n",
    "X = essays.drop(['domain1_score','essay','essay_set','normal_score'], axis=1)\n",
    "y = essays['normal_score']\n",
    "X.head()"
   ]
  },
  {
   "cell_type": "code",
   "execution_count": null,
   "metadata": {},
   "outputs": [],
   "source": []
  },
  {
   "cell_type": "code",
   "execution_count": 4,
   "metadata": {},
   "outputs": [
    {
     "data": {
      "text/html": [
       "<div>\n",
       "<style scoped>\n",
       "    .dataframe tbody tr th:only-of-type {\n",
       "        vertical-align: middle;\n",
       "    }\n",
       "\n",
       "    .dataframe tbody tr th {\n",
       "        vertical-align: top;\n",
       "    }\n",
       "\n",
       "    .dataframe thead th {\n",
       "        text-align: right;\n",
       "    }\n",
       "</style>\n",
       "<table border=\"1\" class=\"dataframe\">\n",
       "  <thead>\n",
       "    <tr style=\"text-align: right;\">\n",
       "      <th></th>\n",
       "      <th>misspelt</th>\n",
       "      <th>correct</th>\n",
       "      <th>length</th>\n",
       "      <th>lexical_diversity</th>\n",
       "      <th>n_sentences</th>\n",
       "      <th>nouns</th>\n",
       "      <th>verbs</th>\n",
       "      <th>adverbs</th>\n",
       "      <th>adjectives</th>\n",
       "      <th>wordnetscore</th>\n",
       "    </tr>\n",
       "  </thead>\n",
       "  <tbody>\n",
       "    <tr>\n",
       "      <th>misspelt</th>\n",
       "      <td>1.000000</td>\n",
       "      <td>0.602140</td>\n",
       "      <td>0.676321</td>\n",
       "      <td>0.382880</td>\n",
       "      <td>0.588399</td>\n",
       "      <td>0.642947</td>\n",
       "      <td>0.568042</td>\n",
       "      <td>0.519617</td>\n",
       "      <td>0.573739</td>\n",
       "      <td>0.334757</td>\n",
       "    </tr>\n",
       "    <tr>\n",
       "      <th>correct</th>\n",
       "      <td>0.602140</td>\n",
       "      <td>1.000000</td>\n",
       "      <td>0.994839</td>\n",
       "      <td>0.712956</td>\n",
       "      <td>0.773040</td>\n",
       "      <td>0.932296</td>\n",
       "      <td>0.903186</td>\n",
       "      <td>0.714850</td>\n",
       "      <td>0.774220</td>\n",
       "      <td>0.609209</td>\n",
       "    </tr>\n",
       "    <tr>\n",
       "      <th>length</th>\n",
       "      <td>0.676321</td>\n",
       "      <td>0.994839</td>\n",
       "      <td>1.000000</td>\n",
       "      <td>0.704630</td>\n",
       "      <td>0.784995</td>\n",
       "      <td>0.938852</td>\n",
       "      <td>0.901898</td>\n",
       "      <td>0.719716</td>\n",
       "      <td>0.780865</td>\n",
       "      <td>0.600038</td>\n",
       "    </tr>\n",
       "    <tr>\n",
       "      <th>lexical_diversity</th>\n",
       "      <td>0.382880</td>\n",
       "      <td>0.712956</td>\n",
       "      <td>0.704630</td>\n",
       "      <td>1.000000</td>\n",
       "      <td>0.505644</td>\n",
       "      <td>0.676668</td>\n",
       "      <td>0.641545</td>\n",
       "      <td>0.325514</td>\n",
       "      <td>0.382316</td>\n",
       "      <td>0.394189</td>\n",
       "    </tr>\n",
       "    <tr>\n",
       "      <th>n_sentences</th>\n",
       "      <td>0.588399</td>\n",
       "      <td>0.773040</td>\n",
       "      <td>0.784995</td>\n",
       "      <td>0.505644</td>\n",
       "      <td>1.000000</td>\n",
       "      <td>0.736195</td>\n",
       "      <td>0.716002</td>\n",
       "      <td>0.603293</td>\n",
       "      <td>0.649538</td>\n",
       "      <td>0.466756</td>\n",
       "    </tr>\n",
       "    <tr>\n",
       "      <th>nouns</th>\n",
       "      <td>0.642947</td>\n",
       "      <td>0.932296</td>\n",
       "      <td>0.938852</td>\n",
       "      <td>0.676668</td>\n",
       "      <td>0.736195</td>\n",
       "      <td>1.000000</td>\n",
       "      <td>0.817120</td>\n",
       "      <td>0.600808</td>\n",
       "      <td>0.706491</td>\n",
       "      <td>0.561738</td>\n",
       "    </tr>\n",
       "    <tr>\n",
       "      <th>verbs</th>\n",
       "      <td>0.568042</td>\n",
       "      <td>0.903186</td>\n",
       "      <td>0.901898</td>\n",
       "      <td>0.641545</td>\n",
       "      <td>0.716002</td>\n",
       "      <td>0.817120</td>\n",
       "      <td>1.000000</td>\n",
       "      <td>0.640746</td>\n",
       "      <td>0.638468</td>\n",
       "      <td>0.574863</td>\n",
       "    </tr>\n",
       "    <tr>\n",
       "      <th>adverbs</th>\n",
       "      <td>0.519617</td>\n",
       "      <td>0.714850</td>\n",
       "      <td>0.719716</td>\n",
       "      <td>0.325514</td>\n",
       "      <td>0.603293</td>\n",
       "      <td>0.600808</td>\n",
       "      <td>0.640746</td>\n",
       "      <td>1.000000</td>\n",
       "      <td>0.682086</td>\n",
       "      <td>0.514460</td>\n",
       "    </tr>\n",
       "    <tr>\n",
       "      <th>adjectives</th>\n",
       "      <td>0.573739</td>\n",
       "      <td>0.774220</td>\n",
       "      <td>0.780865</td>\n",
       "      <td>0.382316</td>\n",
       "      <td>0.649538</td>\n",
       "      <td>0.706491</td>\n",
       "      <td>0.638468</td>\n",
       "      <td>0.682086</td>\n",
       "      <td>1.000000</td>\n",
       "      <td>0.490983</td>\n",
       "    </tr>\n",
       "    <tr>\n",
       "      <th>wordnetscore</th>\n",
       "      <td>0.334757</td>\n",
       "      <td>0.609209</td>\n",
       "      <td>0.600038</td>\n",
       "      <td>0.394189</td>\n",
       "      <td>0.466756</td>\n",
       "      <td>0.561738</td>\n",
       "      <td>0.574863</td>\n",
       "      <td>0.514460</td>\n",
       "      <td>0.490983</td>\n",
       "      <td>1.000000</td>\n",
       "    </tr>\n",
       "  </tbody>\n",
       "</table>\n",
       "</div>"
      ],
      "text/plain": [
       "                   misspelt   correct    length  lexical_diversity  \\\n",
       "misspelt           1.000000  0.602140  0.676321           0.382880   \n",
       "correct            0.602140  1.000000  0.994839           0.712956   \n",
       "length             0.676321  0.994839  1.000000           0.704630   \n",
       "lexical_diversity  0.382880  0.712956  0.704630           1.000000   \n",
       "n_sentences        0.588399  0.773040  0.784995           0.505644   \n",
       "nouns              0.642947  0.932296  0.938852           0.676668   \n",
       "verbs              0.568042  0.903186  0.901898           0.641545   \n",
       "adverbs            0.519617  0.714850  0.719716           0.325514   \n",
       "adjectives         0.573739  0.774220  0.780865           0.382316   \n",
       "wordnetscore       0.334757  0.609209  0.600038           0.394189   \n",
       "\n",
       "                   n_sentences     nouns     verbs   adverbs  adjectives  \\\n",
       "misspelt              0.588399  0.642947  0.568042  0.519617    0.573739   \n",
       "correct               0.773040  0.932296  0.903186  0.714850    0.774220   \n",
       "length                0.784995  0.938852  0.901898  0.719716    0.780865   \n",
       "lexical_diversity     0.505644  0.676668  0.641545  0.325514    0.382316   \n",
       "n_sentences           1.000000  0.736195  0.716002  0.603293    0.649538   \n",
       "nouns                 0.736195  1.000000  0.817120  0.600808    0.706491   \n",
       "verbs                 0.716002  0.817120  1.000000  0.640746    0.638468   \n",
       "adverbs               0.603293  0.600808  0.640746  1.000000    0.682086   \n",
       "adjectives            0.649538  0.706491  0.638468  0.682086    1.000000   \n",
       "wordnetscore          0.466756  0.561738  0.574863  0.514460    0.490983   \n",
       "\n",
       "                   wordnetscore  \n",
       "misspelt               0.334757  \n",
       "correct                0.609209  \n",
       "length                 0.600038  \n",
       "lexical_diversity      0.394189  \n",
       "n_sentences            0.466756  \n",
       "nouns                  0.561738  \n",
       "verbs                  0.574863  \n",
       "adverbs                0.514460  \n",
       "adjectives             0.490983  \n",
       "wordnetscore           1.000000  "
      ]
     },
     "execution_count": 4,
     "metadata": {},
     "output_type": "execute_result"
    }
   ],
   "source": [
    "X.corr()"
   ]
  },
  {
   "cell_type": "code",
   "execution_count": 5,
   "metadata": {},
   "outputs": [
    {
     "data": {
      "text/plain": [
       "LinearRegression()"
      ]
     },
     "execution_count": 5,
     "metadata": {},
     "output_type": "execute_result"
    }
   ],
   "source": [
    "from sklearn.model_selection import train_test_split\n",
    "# Split X and y into X_\n",
    "X_train, X_test, y_train, y_test = train_test_split(X, y, test_size=0.2, random_state=1)\n",
    "\n",
    "from sklearn.linear_model import LinearRegression\n",
    "regression_model = LinearRegression()\n",
    "regression_model.fit(X_train, y_train)\n"
   ]
  },
  {
   "cell_type": "code",
   "execution_count": 6,
   "metadata": {},
   "outputs": [
    {
     "data": {
      "text/plain": [
       "array([ 0.04124149,  0.04531016, -0.04619915, -0.19174018,  0.01920383,\n",
       "        0.02192664,  0.00828597,  0.02665853,  0.03355809,  0.10296543])"
      ]
     },
     "execution_count": 6,
     "metadata": {},
     "output_type": "execute_result"
    }
   ],
   "source": [
    "regression_model.coef_"
   ]
  },
  {
   "cell_type": "code",
   "execution_count": 7,
   "metadata": {},
   "outputs": [
    {
     "name": "stdout",
     "output_type": "stream",
     "text": [
      "0.5579870370390927\n"
     ]
    }
   ],
   "source": [
    "from sklearn.metrics import r2_score,accuracy_score\n",
    "print(regression_model.score(X_test, y_test))\n",
    "y_pred = regression_model.predict(X_test)"
   ]
  },
  {
   "cell_type": "code",
   "execution_count": 8,
   "metadata": {},
   "outputs": [
    {
     "data": {
      "image/png": "[encoded data removed]",
      "text/plain": [
       "<Figure size 432x288 with 1 Axes>"
      ]
     },
     "metadata": {
      "needs_background": "light"
     },
     "output_type": "display_data"
    }
   ],
   "source": [
    "from matplotlib import pyplot as plt\n",
    "plt.scatter(y_test,y_pred)\n",
    "plt.xlabel('y-actual')\n",
    "plt.ylabel('y-predicted')\n",
    "plt.show()"
   ]
  },
  {
   "cell_type": "code",
   "execution_count": 11,
   "metadata": {},
   "outputs": [
    {
     "name": "stdout",
     "output_type": "stream",
     "text": [
      "rmse = {} 0.6452108843873099\n",
      "r2_score = {} 0.5579870370390927\n",
      "rmse = {} 0.6341223374205692\n",
      "r2_score = {} 0.5730492905905447\n",
      "rmse = {} 0.7338689037845061\n",
      "r2_score = {} 0.42816779939974847\n",
      "rmse = {} 4.842328064299631\n",
      "r2_score = {} -23.89660072314086\n",
      "rmse = {} 90.10700006927077\n",
      "r2_score = {} -8619.822393972388\n"
     ]
    }
   ],
   "source": [
    "import math\n",
    "from sklearn.metrics import mean_squared_error\n",
    "from sklearn.preprocessing import PolynomialFeatures\n",
    "for val in range(1,6):\n",
    "    poly_reg = PolynomialFeatures(degree=val)\n",
    "    X_poly = poly_reg.fit_transform(X_train)\n",
    "    pol_reg = LinearRegression()\n",
    "    pol_reg.fit(X_poly, y_train)\n",
    "    y_predict = pol_reg.predict(poly_reg.transform(X_test))\n",
    "    print(\"rmse = {}\",math.sqrt(mean_squared_error(y_predict, y_test)))\n",
    "    print(\"r2_score = {}\",r2_score(y_test,y_predict))"
   ]
  },
  {
   "cell_type": "code",
   "execution_count": 12,
   "metadata": {},
   "outputs": [],
   "source": [
    "from sklearn.model_selection import train_test_split\n",
    "\n",
    "# Split X and y into X_\n",
    "X_train, X_test, y_train, y_test = train_test_split(X, y, test_size=0.2, random_state=1)\n"
   ]
  },
  {
   "cell_type": "code",
   "execution_count": 14,
   "metadata": {},
   "outputs": [
    {
     "name": "stdout",
     "output_type": "stream",
     "text": [
      "=== Confusion Matrix ===\n",
      "[[  2   5   2   0   0]\n",
      " [  1  12  20   8   0]\n",
      " [  1   3  39  34   4]\n",
      " [  0   0  10 138  21]\n",
      " [  0   0   0  24  36]]\n",
      "\n",
      "\n",
      "=== Classification Report ===\n",
      "              precision    recall  f1-score   support\n",
      "\n",
      "           0       0.50      0.22      0.31         9\n",
      "           1       0.60      0.29      0.39        41\n",
      "           2       0.55      0.48      0.51        81\n",
      "           3       0.68      0.82      0.74       169\n",
      "           4       0.59      0.60      0.60        60\n",
      "\n",
      "    accuracy                           0.63       360\n",
      "   macro avg       0.58      0.48      0.51       360\n",
      "weighted avg       0.62      0.63      0.61       360\n",
      "\n",
      "\n",
      "\n"
     ]
    }
   ],
   "source": [
    "from sklearn.metrics import classification_report, confusion_matrix\n",
    "from sklearn.ensemble import RandomForestClassifier\n",
    "\n",
    "rf_random = RandomForestClassifier(criterion='entropy', \n",
    "                            n_estimators=1000, \n",
    "                            min_samples_leaf=4, \n",
    "                            min_samples_split=2, \n",
    "                            max_features='auto',\n",
    "                            max_depth=None,\n",
    "                            bootstrap=True,\n",
    "                            random_state=2)\n",
    "\n",
    "# Fit rf to the training set    \n",
    "rf_random.fit(X_train, y_train)\n",
    "\n",
    "# predict\n",
    "y_pred = rf_random.predict(X_test)\n",
    "\n",
    "print(\"=== Confusion Matrix ===\")\n",
    "print(confusion_matrix(y_test, y_pred))\n",
    "print('\\n')\n",
    "print(\"=== Classification Report ===\")\n",
    "print(classification_report(y_test, y_pred))\n",
    "print('\\n')"
   ]
  },
  {
   "cell_type": "code",
   "execution_count": 16,
   "metadata": {},
   "outputs": [
    {
     "data": {
      "image/png": "[encoded data removed]",
      "text/plain": [
       "<Figure size 432x288 with 1 Axes>"
      ]
     },
     "metadata": {
      "needs_background": "light"
     },
     "output_type": "display_data"
    }
   ],
   "source": [
    "from matplotlib import pyplot as plt\n",
    " \n",
    "importances = pd.Series(data=rf_random.feature_importances_, index= X_train.columns)\n",
    "\n",
    "# Sort importances\n",
    "importances_sorted = importances.sort_values()\n",
    "\n",
    "# Draw a horizontal barplot of importances_sorted\n",
    "importances_sorted.plot(kind='barh', color='lightgreen')\n",
    "plt.title('Features Importances')\n",
    "plt.show()"
   ]
  },
  {
   "cell_type": "code",
   "execution_count": 44,
   "metadata": {},
   "outputs": [
    {
     "data": {
      "text/plain": [
       "LinearRegression()"
      ]
     },
     "execution_count": 44,
     "metadata": {},
     "output_type": "execute_result"
    }
   ],
   "source": [
    "from sklearn.linear_model import LinearRegression\n",
    "\n",
    "regression_model = LinearRegression()\n",
    "regression_model.fit(X_train, y_train)"
   ]
  },
  {
   "cell_type": "code",
   "execution_count": 32,
   "metadata": {},
   "outputs": [
    {
     "data": {
      "text/plain": [
       "2.7276764202821226"
      ]
     },
     "execution_count": 32,
     "metadata": {},
     "output_type": "execute_result"
    }
   ],
   "source": [
    "regression_model.intercept_"
   ]
  },
  {
   "cell_type": "code",
   "execution_count": 33,
   "metadata": {},
   "outputs": [
    {
     "data": {
      "text/plain": [
       "array([ 0.45249701, -0.05392417,  0.07036734,  0.30019698,  0.28291999,\n",
       "        0.24711972,  0.11554341,  0.04244274,  0.04244274,  0.0858835 ])"
      ]
     },
     "execution_count": 33,
     "metadata": {},
     "output_type": "execute_result"
    }
   ],
   "source": [
    "regression_model.coef_"
   ]
  },
  {
   "cell_type": "code",
   "execution_count": 45,
   "metadata": {},
   "outputs": [
    {
     "name": "stdout",
     "output_type": "stream",
     "text": [
      "0.5495279120543642\n"
     ]
    }
   ],
   "source": [
    "from sklearn.metrics import r2_score,accuracy_score\n",
    "print(regression_model.score(X_test, y_test))\n",
    "y_pred = regression_model.predict(X_test)"
   ]
  },
  {
   "cell_type": "code",
   "execution_count": 35,
   "metadata": {},
   "outputs": [
    {
     "data": {
      "text/plain": [
       "0.6479748302369933"
      ]
     },
     "execution_count": 35,
     "metadata": {},
     "output_type": "execute_result"
    }
   ],
   "source": [
    "from sklearn.metrics import mean_squared_error\n",
    "\n",
    "y_predict = regression_model.predict(X_test)\n",
    "\n",
    "regression_model_mse = mean_squared_error(y_predict, y_test)\n",
    "\n",
    "regression_model_mse\n",
    "import math\n",
    "\n",
    "math.sqrt(regression_model_mse)"
   ]
  },
  {
   "cell_type": "code",
   "execution_count": 12,
   "metadata": {},
   "outputs": [
    {
     "name": "stdout",
     "output_type": "stream",
     "text": [
      "rmse = {} 0.6306914822024646\n",
      "r2_score = {} 0.5775576192409284\n",
      "rmse = {} 0.5916091127038631\n",
      "r2_score = {} 0.6282908429967584\n",
      "rmse = {} 0.5599185349430765\n",
      "r2_score = {} 0.6670467653220038\n",
      "rmse = {} 0.45790600811189314\n",
      "r2_score = {} 0.7773174253770506\n",
      "rmse = {} 0.07276465032099905\n",
      "r2_score = {} 0.994376917654697\n",
      "rmse = {} 0.005536705011815039\n",
      "r2_score = {} 0.9999674436040911\n",
      "rmse = {} 0.01099655740002152\n",
      "r2_score = {} 0.9998715757490952\n",
      "rmse = {} 0.010830575662900015\n",
      "r2_score = {} 0.9998754233547262\n",
      "rmse = {} 0.019829554872429184\n",
      "r2_score = {} 0.9995824009702223\n"
     ]
    }
   ],
   "source": [
    "from sklearn.preprocessing import PolynomialFeatures\n",
    "for val in range(1,10):\n",
    "    poly_reg = PolynomialFeatures(degree=val)\n",
    "    X_poly = poly_reg.fit_transform(X)\n",
    "    pol_reg = LinearRegression()\n",
    "    pol_reg.fit(X_poly, y)\n",
    "    y_predict = pol_reg.predict(X_poly)\n",
    "    print(\"rmse = {}\",math.sqrt(mean_squared_error(y_predict, y)))\n",
    "    print(\"r2_score = {}\",r2_score(y,y_predict))"
   ]
  },
  {
   "cell_type": "code",
   "execution_count": 36,
   "metadata": {},
   "outputs": [
    {
     "name": "stdout",
     "output_type": "stream",
     "text": [
      "rmse = {} 0.6479748302369933\n",
      "r2_score = {} 0.5541919471699362\n",
      "rmse = {} 0.6213099581088788\n",
      "r2_score = {} 0.5901279870533731\n",
      "rmse = {} 0.750309857306848\n",
      "r2_score = {} 0.4022591454731427\n",
      "rmse = {} 7.5425161643890295\n",
      "r2_score = {} -59.403782497731\n",
      "rmse = {} 274.90072371708584\n",
      "r2_score = {} -80237.61104262668\n",
      "rmse = {} 2313.5611316403106\n",
      "r2_score = {} -5683207.571479998\n",
      "rmse = {} 2853.959339945022\n",
      "r2_score = {} -8648228.356563177\n",
      "rmse = {} 58674.84588876458\n",
      "r2_score = {} -3655405415.9515615\n",
      "rmse = {} 60677.866523718694\n",
      "r2_score = {} -3909239158.174019\n"
     ]
    }
   ],
   "source": [
    "for val in range(1,10):\n",
    "    poly_reg = PolynomialFeatures(degree=val)\n",
    "    X_poly = poly_reg.fit_transform(X_train)\n",
    "    pol_reg = LinearRegression()\n",
    "    pol_reg.fit(X_poly, y_train)\n",
    "    y_predict = pol_reg.predict(poly_reg.transform(X_test))\n",
    "    print(\"rmse = {}\",math.sqrt(mean_squared_error(y_predict, y_test)))\n",
    "    print(\"r2_score = {}\",r2_score(y_test,y_predict))"
   ]
  },
  {
   "cell_type": "code",
   "execution_count": 14,
   "metadata": {},
   "outputs": [
    {
     "data": {
      "text/html": [
       "<div>\n",
       "<style scoped>\n",
       "    .dataframe tbody tr th:only-of-type {\n",
       "        vertical-align: middle;\n",
       "    }\n",
       "\n",
       "    .dataframe tbody tr th {\n",
       "        vertical-align: top;\n",
       "    }\n",
       "\n",
       "    .dataframe thead th {\n",
       "        text-align: right;\n",
       "    }\n",
       "</style>\n",
       "<table border=\"1\" class=\"dataframe\">\n",
       "  <thead>\n",
       "    <tr style=\"text-align: right;\">\n",
       "      <th></th>\n",
       "      <th>length</th>\n",
       "      <th>lexical_diversity</th>\n",
       "      <th>n_sentences</th>\n",
       "      <th>wordnetscore</th>\n",
       "      <th>correctN</th>\n",
       "      <th>misspeltN</th>\n",
       "      <th>nounsN</th>\n",
       "      <th>verbsN</th>\n",
       "      <th>adverbsN</th>\n",
       "      <th>adjectivesN</th>\n",
       "    </tr>\n",
       "  </thead>\n",
       "  <tbody>\n",
       "    <tr>\n",
       "      <th>length</th>\n",
       "      <td>1.000000</td>\n",
       "      <td>0.704630</td>\n",
       "      <td>0.784995</td>\n",
       "      <td>0.600038</td>\n",
       "      <td>-0.116262</td>\n",
       "      <td>0.108707</td>\n",
       "      <td>0.022393</td>\n",
       "      <td>0.048700</td>\n",
       "      <td>0.048700</td>\n",
       "      <td>0.044306</td>\n",
       "    </tr>\n",
       "    <tr>\n",
       "      <th>lexical_diversity</th>\n",
       "      <td>0.704630</td>\n",
       "      <td>1.000000</td>\n",
       "      <td>0.505644</td>\n",
       "      <td>0.394189</td>\n",
       "      <td>0.044281</td>\n",
       "      <td>-0.057293</td>\n",
       "      <td>0.044152</td>\n",
       "      <td>-0.190167</td>\n",
       "      <td>-0.190167</td>\n",
       "      <td>-0.219457</td>\n",
       "    </tr>\n",
       "    <tr>\n",
       "      <th>n_sentences</th>\n",
       "      <td>0.784995</td>\n",
       "      <td>0.505644</td>\n",
       "      <td>1.000000</td>\n",
       "      <td>0.466756</td>\n",
       "      <td>-0.167746</td>\n",
       "      <td>0.163243</td>\n",
       "      <td>0.003968</td>\n",
       "      <td>0.095274</td>\n",
       "      <td>0.095274</td>\n",
       "      <td>0.090742</td>\n",
       "    </tr>\n",
       "    <tr>\n",
       "      <th>wordnetscore</th>\n",
       "      <td>0.600038</td>\n",
       "      <td>0.394189</td>\n",
       "      <td>0.466756</td>\n",
       "      <td>1.000000</td>\n",
       "      <td>0.037196</td>\n",
       "      <td>-0.025936</td>\n",
       "      <td>0.021304</td>\n",
       "      <td>0.132317</td>\n",
       "      <td>0.132317</td>\n",
       "      <td>0.056399</td>\n",
       "    </tr>\n",
       "    <tr>\n",
       "      <th>correctN</th>\n",
       "      <td>-0.116262</td>\n",
       "      <td>0.044281</td>\n",
       "      <td>-0.167746</td>\n",
       "      <td>0.037196</td>\n",
       "      <td>1.000000</td>\n",
       "      <td>-0.955984</td>\n",
       "      <td>-0.045721</td>\n",
       "      <td>0.016804</td>\n",
       "      <td>0.016804</td>\n",
       "      <td>-0.075020</td>\n",
       "    </tr>\n",
       "    <tr>\n",
       "      <th>misspeltN</th>\n",
       "      <td>0.108707</td>\n",
       "      <td>-0.057293</td>\n",
       "      <td>0.163243</td>\n",
       "      <td>-0.025936</td>\n",
       "      <td>-0.955984</td>\n",
       "      <td>1.000000</td>\n",
       "      <td>0.031232</td>\n",
       "      <td>0.019553</td>\n",
       "      <td>0.019553</td>\n",
       "      <td>0.105793</td>\n",
       "    </tr>\n",
       "    <tr>\n",
       "      <th>nounsN</th>\n",
       "      <td>0.022393</td>\n",
       "      <td>0.044152</td>\n",
       "      <td>0.003968</td>\n",
       "      <td>0.021304</td>\n",
       "      <td>-0.045721</td>\n",
       "      <td>0.031232</td>\n",
       "      <td>1.000000</td>\n",
       "      <td>-0.303579</td>\n",
       "      <td>-0.303579</td>\n",
       "      <td>-0.095574</td>\n",
       "    </tr>\n",
       "    <tr>\n",
       "      <th>verbsN</th>\n",
       "      <td>0.048700</td>\n",
       "      <td>-0.190167</td>\n",
       "      <td>0.095274</td>\n",
       "      <td>0.132317</td>\n",
       "      <td>0.016804</td>\n",
       "      <td>0.019553</td>\n",
       "      <td>-0.303579</td>\n",
       "      <td>1.000000</td>\n",
       "      <td>1.000000</td>\n",
       "      <td>0.228514</td>\n",
       "    </tr>\n",
       "    <tr>\n",
       "      <th>adverbsN</th>\n",
       "      <td>0.048700</td>\n",
       "      <td>-0.190167</td>\n",
       "      <td>0.095274</td>\n",
       "      <td>0.132317</td>\n",
       "      <td>0.016804</td>\n",
       "      <td>0.019553</td>\n",
       "      <td>-0.303579</td>\n",
       "      <td>1.000000</td>\n",
       "      <td>1.000000</td>\n",
       "      <td>0.228514</td>\n",
       "    </tr>\n",
       "    <tr>\n",
       "      <th>adjectivesN</th>\n",
       "      <td>0.044306</td>\n",
       "      <td>-0.219457</td>\n",
       "      <td>0.090742</td>\n",
       "      <td>0.056399</td>\n",
       "      <td>-0.075020</td>\n",
       "      <td>0.105793</td>\n",
       "      <td>-0.095574</td>\n",
       "      <td>0.228514</td>\n",
       "      <td>0.228514</td>\n",
       "      <td>1.000000</td>\n",
       "    </tr>\n",
       "  </tbody>\n",
       "</table>\n",
       "</div>"
      ],
      "text/plain": [
       "                     length  lexical_diversity  n_sentences  wordnetscore  \\\n",
       "length             1.000000           0.704630     0.784995      0.600038   \n",
       "lexical_diversity  0.704630           1.000000     0.505644      0.394189   \n",
       "n_sentences        0.784995           0.505644     1.000000      0.466756   \n",
       "wordnetscore       0.600038           0.394189     0.466756      1.000000   \n",
       "correctN          -0.116262           0.044281    -0.167746      0.037196   \n",
       "misspeltN          0.108707          -0.057293     0.163243     -0.025936   \n",
       "nounsN             0.022393           0.044152     0.003968      0.021304   \n",
       "verbsN             0.048700          -0.190167     0.095274      0.132317   \n",
       "adverbsN           0.048700          -0.190167     0.095274      0.132317   \n",
       "adjectivesN        0.044306          -0.219457     0.090742      0.056399   \n",
       "\n",
       "                   correctN  misspeltN    nounsN    verbsN  adverbsN  \\\n",
       "length            -0.116262   0.108707  0.022393  0.048700  0.048700   \n",
       "lexical_diversity  0.044281  -0.057293  0.044152 -0.190167 -0.190167   \n",
       "n_sentences       -0.167746   0.163243  0.003968  0.095274  0.095274   \n",
       "wordnetscore       0.037196  -0.025936  0.021304  0.132317  0.132317   \n",
       "correctN           1.000000  -0.955984 -0.045721  0.016804  0.016804   \n",
       "misspeltN         -0.955984   1.000000  0.031232  0.019553  0.019553   \n",
       "nounsN            -0.045721   0.031232  1.000000 -0.303579 -0.303579   \n",
       "verbsN             0.016804   0.019553 -0.303579  1.000000  1.000000   \n",
       "adverbsN           0.016804   0.019553 -0.303579  1.000000  1.000000   \n",
       "adjectivesN       -0.075020   0.105793 -0.095574  0.228514  0.228514   \n",
       "\n",
       "                   adjectivesN  \n",
       "length                0.044306  \n",
       "lexical_diversity    -0.219457  \n",
       "n_sentences           0.090742  \n",
       "wordnetscore          0.056399  \n",
       "correctN             -0.075020  \n",
       "misspeltN             0.105793  \n",
       "nounsN               -0.095574  \n",
       "verbsN                0.228514  \n",
       "adverbsN              0.228514  \n",
       "adjectivesN           1.000000  "
      ]
     },
     "execution_count": 14,
     "metadata": {},
     "output_type": "execute_result"
    }
   ],
   "source": [
    "X.corr()"
   ]
  },
  {
   "cell_type": "code",
   "execution_count": null,
   "metadata": {},
   "outputs": [],
   "source": []
  }
 ],
 "metadata": {
  "kernelspec": {
   "display_name": "Python 3",
   "language": "python",
   "name": "python3"
  },
  "language_info": {
   "codemirror_mode": {
    "name": "ipython",
    "version": 3
   },
   "file_extension": ".py",
   "mimetype": "text/x-python",
   "name": "python",
   "nbconvert_exporter": "python",
   "pygments_lexer": "ipython3",
   "version": "3.7.7"
  }
 },
 "nbformat": 4,
 "nbformat_minor": 4
}
