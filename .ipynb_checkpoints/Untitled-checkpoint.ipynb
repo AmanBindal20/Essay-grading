{
 "cells": [
  {
   "cell_type": "code",
   "execution_count": 1,
   "metadata": {},
   "outputs": [],
   "source": [
    "import nltk\n",
    "import pandas as pd\n",
    "import numpy as np\n",
    "import matplotlib.pyplot as plt\n",
    "from nltk.stem import WordNetLemmatizer\n",
    "from nltk.corpus import wordnet\n",
    "import re, collections\n",
    "from collections import defaultdict\n",
    "from sklearn.feature_extraction.text import CountVectorizer\n",
    "from sklearn.metrics import mean_squared_error, r2_score\n",
    "from sklearn.model_selection import train_test_split\n",
    "from sklearn.linear_model import LinearRegression, Ridge, Lasso\n",
    "from sklearn.svm import SVR\n",
    "from sklearn import ensemble\n",
    "from sklearn.model_selection import GridSearchCV\n",
    "from sklearn.metrics import cohen_kappa_score"
   ]
  },
  {
   "cell_type": "code",
   "execution_count": 3,
   "metadata": {},
   "outputs": [
    {
     "data": {
      "text/html": [
       "<div>\n",
       "<style scoped>\n",
       "    .dataframe tbody tr th:only-of-type {\n",
       "        vertical-align: middle;\n",
       "    }\n",
       "\n",
       "    .dataframe tbody tr th {\n",
       "        vertical-align: top;\n",
       "    }\n",
       "\n",
       "    .dataframe thead th {\n",
       "        text-align: right;\n",
       "    }\n",
       "</style>\n",
       "<table border=\"1\" class=\"dataframe\">\n",
       "  <thead>\n",
       "    <tr style=\"text-align: right;\">\n",
       "      <th></th>\n",
       "      <th>num_of_chars</th>\n",
       "      <th>num_of_words</th>\n",
       "      <th>num_of_long_words</th>\n",
       "      <th>num_of_short_words</th>\n",
       "      <th>most_frequent_word_length</th>\n",
       "      <th>average_word_length</th>\n",
       "      <th>num_of_sentences</th>\n",
       "      <th>num_of_long_sents</th>\n",
       "      <th>num_of_short_sents</th>\n",
       "      <th>average_sents_length</th>\n",
       "      <th>most_frequent_sents_length</th>\n",
       "      <th>num_of_different_words</th>\n",
       "      <th>num_of_stopwords</th>\n",
       "      <th>gunning_fox_index</th>\n",
       "      <th>flesch_reading_ease</th>\n",
       "      <th>flesch_kincaid_grade_level</th>\n",
       "      <th>dale_schall_index</th>\n",
       "      <th>automated_readability_index</th>\n",
       "      <th>SMOG</th>\n",
       "      <th>LIX</th>\n",
       "    </tr>\n",
       "  </thead>\n",
       "  <tbody>\n",
       "    <tr>\n",
       "      <th>0</th>\n",
       "      <td>1875</td>\n",
       "      <td>350</td>\n",
       "      <td>13</td>\n",
       "      <td>151</td>\n",
       "      <td>2</td>\n",
       "      <td>4.357143</td>\n",
       "      <td>16</td>\n",
       "      <td>6</td>\n",
       "      <td>3</td>\n",
       "      <td>21.875000</td>\n",
       "      <td>4</td>\n",
       "      <td>173</td>\n",
       "      <td>165</td>\n",
       "      <td>10.31</td>\n",
       "      <td>74.02</td>\n",
       "      <td>8.5</td>\n",
       "      <td>6.06</td>\n",
       "      <td>11.3</td>\n",
       "      <td>10.2</td>\n",
       "      <td>38.638666</td>\n",
       "    </tr>\n",
       "    <tr>\n",
       "      <th>1</th>\n",
       "      <td>2288</td>\n",
       "      <td>423</td>\n",
       "      <td>29</td>\n",
       "      <td>175</td>\n",
       "      <td>4</td>\n",
       "      <td>4.408983</td>\n",
       "      <td>21</td>\n",
       "      <td>6</td>\n",
       "      <td>4</td>\n",
       "      <td>20.142857</td>\n",
       "      <td>15</td>\n",
       "      <td>205</td>\n",
       "      <td>181</td>\n",
       "      <td>10.21</td>\n",
       "      <td>67.08</td>\n",
       "      <td>9.1</td>\n",
       "      <td>6.60</td>\n",
       "      <td>10.1</td>\n",
       "      <td>11.6</td>\n",
       "      <td>40.294313</td>\n",
       "    </tr>\n",
       "    <tr>\n",
       "      <th>2</th>\n",
       "      <td>1541</td>\n",
       "      <td>283</td>\n",
       "      <td>19</td>\n",
       "      <td>126</td>\n",
       "      <td>3</td>\n",
       "      <td>4.445230</td>\n",
       "      <td>17</td>\n",
       "      <td>4</td>\n",
       "      <td>6</td>\n",
       "      <td>16.647059</td>\n",
       "      <td>4</td>\n",
       "      <td>160</td>\n",
       "      <td>132</td>\n",
       "      <td>10.25</td>\n",
       "      <td>68.20</td>\n",
       "      <td>8.7</td>\n",
       "      <td>6.72</td>\n",
       "      <td>9.9</td>\n",
       "      <td>12.0</td>\n",
       "      <td>38.588844</td>\n",
       "    </tr>\n",
       "    <tr>\n",
       "      <th>3</th>\n",
       "      <td>3165</td>\n",
       "      <td>530</td>\n",
       "      <td>55</td>\n",
       "      <td>189</td>\n",
       "      <td>4</td>\n",
       "      <td>4.971698</td>\n",
       "      <td>29</td>\n",
       "      <td>6</td>\n",
       "      <td>4</td>\n",
       "      <td>18.275862</td>\n",
       "      <td>13</td>\n",
       "      <td>260</td>\n",
       "      <td>208</td>\n",
       "      <td>13.53</td>\n",
       "      <td>53.34</td>\n",
       "      <td>12.3</td>\n",
       "      <td>7.89</td>\n",
       "      <td>15.4</td>\n",
       "      <td>13.7</td>\n",
       "      <td>44.376204</td>\n",
       "    </tr>\n",
       "    <tr>\n",
       "      <th>4</th>\n",
       "      <td>2569</td>\n",
       "      <td>473</td>\n",
       "      <td>36</td>\n",
       "      <td>205</td>\n",
       "      <td>4</td>\n",
       "      <td>4.431290</td>\n",
       "      <td>30</td>\n",
       "      <td>3</td>\n",
       "      <td>3</td>\n",
       "      <td>15.766667</td>\n",
       "      <td>12</td>\n",
       "      <td>210</td>\n",
       "      <td>216</td>\n",
       "      <td>8.01</td>\n",
       "      <td>72.66</td>\n",
       "      <td>7.0</td>\n",
       "      <td>6.00</td>\n",
       "      <td>7.7</td>\n",
       "      <td>11.1</td>\n",
       "      <td>34.183440</td>\n",
       "    </tr>\n",
       "  </tbody>\n",
       "</table>\n",
       "</div>"
      ],
      "text/plain": [
       "   num_of_chars  num_of_words  num_of_long_words  num_of_short_words  \\\n",
       "0          1875           350                 13                 151   \n",
       "1          2288           423                 29                 175   \n",
       "2          1541           283                 19                 126   \n",
       "3          3165           530                 55                 189   \n",
       "4          2569           473                 36                 205   \n",
       "\n",
       "   most_frequent_word_length  average_word_length  num_of_sentences  \\\n",
       "0                          2             4.357143                16   \n",
       "1                          4             4.408983                21   \n",
       "2                          3             4.445230                17   \n",
       "3                          4             4.971698                29   \n",
       "4                          4             4.431290                30   \n",
       "\n",
       "   num_of_long_sents  num_of_short_sents  average_sents_length  \\\n",
       "0                  6                   3             21.875000   \n",
       "1                  6                   4             20.142857   \n",
       "2                  4                   6             16.647059   \n",
       "3                  6                   4             18.275862   \n",
       "4                  3                   3             15.766667   \n",
       "\n",
       "   most_frequent_sents_length  num_of_different_words  num_of_stopwords  \\\n",
       "0                           4                     173               165   \n",
       "1                          15                     205               181   \n",
       "2                           4                     160               132   \n",
       "3                          13                     260               208   \n",
       "4                          12                     210               216   \n",
       "\n",
       "   gunning_fox_index  flesch_reading_ease  flesch_kincaid_grade_level  \\\n",
       "0              10.31                74.02                         8.5   \n",
       "1              10.21                67.08                         9.1   \n",
       "2              10.25                68.20                         8.7   \n",
       "3              13.53                53.34                        12.3   \n",
       "4               8.01                72.66                         7.0   \n",
       "\n",
       "   dale_schall_index  automated_readability_index  SMOG        LIX  \n",
       "0               6.06                         11.3  10.2  38.638666  \n",
       "1               6.60                         10.1  11.6  40.294313  \n",
       "2               6.72                          9.9  12.0  38.588844  \n",
       "3               7.89                         15.4  13.7  44.376204  \n",
       "4               6.00                          7.7  11.1  34.183440  "
      ]
     },
     "execution_count": 3,
     "metadata": {},
     "output_type": "execute_result"
    }
   ],
   "source": [
    "essays = pd.read_csv('allFeaturesSet1.csv')\n",
    "\n",
    "X = essays.drop(['domain1_score','essay','essay_set'], axis=1)\n",
    "y = essays['domain1_score']\n",
    "X.head()"
   ]
  },
  {
   "cell_type": "code",
   "execution_count": 4,
   "metadata": {},
   "outputs": [
    {
     "data": {
      "text/plain": [
       "LinearRegression()"
      ]
     },
     "execution_count": 4,
     "metadata": {},
     "output_type": "execute_result"
    }
   ],
   "source": [
    "from sklearn.model_selection import train_test_split\n",
    "# Split X and y into X_\n",
    "X_train, X_test, y_train, y_test = train_test_split(X, y, test_size=0.2, random_state=1)\n",
    "\n",
    "from sklearn.linear_model import LinearRegression\n",
    "regression_model = LinearRegression()\n",
    "regression_model.fit(X_train, y_train)"
   ]
  },
  {
   "cell_type": "code",
   "execution_count": 5,
   "metadata": {},
   "outputs": [
    {
     "name": "stdout",
     "output_type": "stream",
     "text": [
      "0.6746237083063831\n"
     ]
    }
   ],
   "source": [
    "from sklearn.metrics import r2_score,accuracy_score\n",
    "print(regression_model.score(X_test, y_test))\n",
    "y_pred = regression_model.predict(X_test)"
   ]
  },
  {
   "cell_type": "code",
   "execution_count": 6,
   "metadata": {},
   "outputs": [
    {
     "data": {
      "image/png": "[encoded data removed]",
      "text/plain": [
       "<Figure size 432x288 with 1 Axes>"
      ]
     },
     "metadata": {
      "needs_background": "light"
     },
     "output_type": "display_data"
    }
   ],
   "source": [
    "from matplotlib import pyplot as plt\n",
    "plt.scatter(y_test,y_pred)\n",
    "plt.xlabel('y-actual')\n",
    "plt.ylabel('y-predicted')\n",
    "plt.show()"
   ]
  },
  {
   "cell_type": "code",
   "execution_count": 9,
   "metadata": {},
   "outputs": [
    {
     "name": "stdout",
     "output_type": "stream",
     "text": [
      "rmse = {} 0.877579519189676\n",
      "r2_score = {} 0.6746237083063831\n"
     ]
    }
   ],
   "source": [
    "import math\n",
    "from sklearn.metrics import mean_squared_error\n",
    "print(\"rmse = {}\",math.sqrt(mean_squared_error(y_pred, y_test)))\n",
    "print(\"r2_score = {}\",r2_score(y_test,y_pred))"
   ]
  },
  {
   "cell_type": "code",
   "execution_count": 20,
   "metadata": {},
   "outputs": [
    {
     "data": {
      "text/plain": [
       "0.28861526411573646"
      ]
     },
     "execution_count": 20,
     "metadata": {},
     "output_type": "execute_result"
    }
   ],
   "source": [
    "from sklearn.metrics import cohen_kappa_score\n",
    "from sklearn.linear_model import LogisticRegression\n",
    "from sklearn.preprocessing import MinMaxScaler\n",
    "from sklearn.preprocessing import StandardScaler\n",
    "mmscaler = MinMaxScaler()\n",
    "sscaler = StandardScaler()\n",
    "Xmm = mmscaler.fit_transform(X)\n",
    "Xss = mmscaler.fit_transform(X)\n",
    "Xmm_train, Xmm_test, ymm_train, ymm_test = train_test_split(Xmm, y, test_size=0.2, random_state=1)\n",
    "Xss_train, Xss_test, yss_train, yss_test = train_test_split(Xss, y, test_size=0.2, random_state=1)\n",
    "lr = LogisticRegression(random_state=3,max_iter=500)\n",
    "lr.fit(Xmm_train,ymm_train)\n",
    "ymm_predlr = lr.predict(Xmm_test)\n",
    "cohen = cohen_kappa_score(ymm_test,ymm_predlr)\n",
    "cohen"
   ]
  },
  {
   "cell_type": "code",
   "execution_count": 22,
   "metadata": {},
   "outputs": [
    {
     "data": {
      "image/png": "[encoded data removed]",
      "text/plain": [
       "<Figure size 432x288 with 1 Axes>"
      ]
     },
     "metadata": {
      "needs_background": "light"
     },
     "output_type": "display_data"
    }
   ],
   "source": [
    "from matplotlib import pyplot as plt\n",
    "plt.scatter(ymm_test,ymm_predlr)\n",
    "plt.xlabel('y-actual')\n",
    "plt.ylabel('y-predicted')\n",
    "plt.show()"
   ]
  },
  {
   "cell_type": "code",
   "execution_count": 23,
   "metadata": {},
   "outputs": [
    {
     "data": {
      "text/plain": [
       "0.34408334864417955"
      ]
     },
     "execution_count": 23,
     "metadata": {},
     "output_type": "execute_result"
    }
   ],
   "source": [
    "sscaler = StandardScaler()\n",
    "Xss = sscaler.fit_transform(X)\n",
    "Xss_train, Xss_test, yss_train, yss_test = train_test_split(Xss, y, test_size=0.2, random_state=1)\n",
    "lr = LogisticRegression(random_state=3,max_iter=500)\n",
    "lr.fit(Xss_train,yss_train)\n",
    "yss_predlr = lr.predict(Xss_test)\n",
    "cohen = cohen_kappa_score(yss_test,yss_predlr)\n",
    "cohen"
   ]
  },
  {
   "cell_type": "code",
   "execution_count": 24,
   "metadata": {},
   "outputs": [
    {
     "data": {
      "image/png": "[encoded data removed]",
      "text/plain": [
       "<Figure size 432x288 with 1 Axes>"
      ]
     },
     "metadata": {
      "needs_background": "light"
     },
     "output_type": "display_data"
    }
   ],
   "source": [
    "from matplotlib import pyplot as plt\n",
    "plt.scatter(yss_test,yss_predlr)\n",
    "plt.xlabel('y-actual')\n",
    "plt.ylabel('y-predicted')\n",
    "plt.show()"
   ]
  },
  {
   "cell_type": "code",
   "execution_count": 25,
   "metadata": {},
   "outputs": [
    {
     "data": {
      "text/plain": [
       "0.5238095238095238"
      ]
     },
     "execution_count": 25,
     "metadata": {},
     "output_type": "execute_result"
    }
   ],
   "source": [
    "from sklearn.metrics import accuracy_score\n",
    "accuracy = accuracy_score(yss_test,yss_predlr)\n",
    "accuracy"
   ]
  },
  {
   "cell_type": "code",
   "execution_count": 28,
   "metadata": {},
   "outputs": [
    {
     "name": "stderr",
     "output_type": "stream",
     "text": [
      "C:\\ProgramData\\Anaconda3\\lib\\site-packages\\sklearn\\utils\\validation.py:72: DataConversionWarning: A column-vector y was passed when a 1d array was expected. Please change the shape of y to (n_samples, ), for example using ravel().\n",
      "  return f(**kwargs)\n"
     ]
    },
    {
     "data": {
      "text/plain": [
       "0.5729249259274716"
      ]
     },
     "execution_count": 28,
     "metadata": {},
     "output_type": "execute_result"
    }
   ],
   "source": [
    "new_grades = []\n",
    "for score in y:\n",
    "    new_grades.append(score//2)\n",
    "y_new = pd.DataFrame({'score': new_grades})\n",
    "Xssn_train, Xssn_test, yssn_train, yssn_test = train_test_split(Xss, y_new, test_size=0.2, random_state=1)\n",
    "lr = LogisticRegression(random_state=3,max_iter=500)\n",
    "lr.fit(Xssn_train,yssn_train)\n",
    "yssn_predlr = lr.predict(Xssn_test)\n",
    "cohen = cohen_kappa_score(yssn_test,yssn_predlr)\n",
    "cohen"
   ]
  },
  {
   "cell_type": "code",
   "execution_count": 29,
   "metadata": {},
   "outputs": [
    {
     "data": {
      "text/plain": [
       "0.7591036414565826"
      ]
     },
     "execution_count": 29,
     "metadata": {},
     "output_type": "execute_result"
    }
   ],
   "source": [
    "from sklearn.metrics import accuracy_score\n",
    "accuracy = accuracy_score(yssn_test,yssn_predlr)\n",
    "accuracy"
   ]
  },
  {
   "cell_type": "code",
   "execution_count": 30,
   "metadata": {},
   "outputs": [
    {
     "data": {
      "text/plain": [
       "<sklearn.metrics._plot.confusion_matrix.ConfusionMatrixDisplay at 0x219bf05b940>"
      ]
     },
     "execution_count": 30,
     "metadata": {},
     "output_type": "execute_result"
    },
    {
     "data": {
      "image/png": "[encoded data removed]",
      "text/plain": [
       "<Figure size 432x288 with 2 Axes>"
      ]
     },
     "metadata": {
      "needs_background": "light"
     },
     "output_type": "display_data"
    }
   ],
   "source": [
    "from sklearn.metrics import plot_confusion_matrix\n",
    "plot_confusion_matrix(lr, Xssn_test, yssn_test)  "
   ]
  },
  {
   "cell_type": "code",
   "execution_count": 31,
   "metadata": {},
   "outputs": [
    {
     "data": {
      "text/plain": [
       "{'criterion': ['gini', 'entropy'],\n",
       " 'n_estimators': [200, 400, 600, 800, 1000, 1200, 1400, 1600, 1800, 2000],\n",
       " 'max_features': ['auto', 'sqrt'],\n",
       " 'max_depth': [10, 20, 30, 40, 50, 60, 70, 80, 90, 100, 110, None],\n",
       " 'min_samples_split': [2, 5, 10, 15, 20],\n",
       " 'min_samples_leaf': [1, 2, 4, 8],\n",
       " 'bootstrap': [True, False]}"
      ]
     },
     "execution_count": 31,
     "metadata": {},
     "output_type": "execute_result"
    }
   ],
   "source": [
    "from sklearn.model_selection import RandomizedSearchCV\n",
    "\n",
    "# criterion for information gain\n",
    "criterion = ['gini', 'entropy']\n",
    "\n",
    "# Number of trees in random forest\n",
    "n_estimators = [int(x) for x in np.linspace(start = 200, stop = 2000, num = 10)]\n",
    "\n",
    "# Number of features to consider at every split\n",
    "max_features = ['auto', 'sqrt']\n",
    "\n",
    "# Maximum number of levels in tree\n",
    "max_depth = [int(x) for x in np.linspace(10, 110, num = 11)]\n",
    "max_depth.append(None)\n",
    "\n",
    "# Minimum number of samples required to split a node\n",
    "min_samples_split = [2, 5, 10, 15, 20]\n",
    "\n",
    "# Minimum number of samples required at each leaf node\n",
    "min_samples_leaf = [1, 2, 4, 8]\n",
    "\n",
    "# Method of selecting samples for training each tree\n",
    "bootstrap = [True, False]\n",
    "\n",
    "# Create the random grid\n",
    "random_grid = {'criterion': criterion,\n",
    "               'n_estimators': n_estimators,\n",
    "               'max_features': max_features,\n",
    "               'max_depth': max_depth,\n",
    "               'min_samples_split': min_samples_split,\n",
    "               'min_samples_leaf': min_samples_leaf,\n",
    "               'bootstrap': bootstrap}\n",
    "random_grid"
   ]
  },
  {
   "cell_type": "code",
   "execution_count": 34,
   "metadata": {},
   "outputs": [
    {
     "name": "stdout",
     "output_type": "stream",
     "text": [
      "Fitting 3 folds for each of 100 candidates, totalling 300 fits\n"
     ]
    },
    {
     "name": "stderr",
     "output_type": "stream",
     "text": [
      "[Parallel(n_jobs=-1)]: Using backend LokyBackend with 4 concurrent workers.\n",
      "[Parallel(n_jobs=-1)]: Done  33 tasks      | elapsed:   43.1s\n",
      "[Parallel(n_jobs=-1)]: Done 154 tasks      | elapsed:  3.7min\n",
      "[Parallel(n_jobs=-1)]: Done 300 out of 300 | elapsed:  7.8min finished\n",
      "C:\\ProgramData\\Anaconda3\\lib\\site-packages\\sklearn\\model_selection\\_search.py:765: DataConversionWarning: A column-vector y was passed when a 1d array was expected. Please change the shape of y to (n_samples,), for example using ravel().\n",
      "  self.best_estimator_.fit(X, y, **fit_params)\n"
     ]
    },
    {
     "data": {
      "text/plain": [
       "RandomizedSearchCV(cv=3, estimator=RandomForestClassifier(), n_iter=100,\n",
       "                   n_jobs=-1,\n",
       "                   param_distributions={'bootstrap': [True, False],\n",
       "                                        'criterion': ['gini', 'entropy'],\n",
       "                                        'max_depth': [10, 20, 30, 40, 50, 60,\n",
       "                                                      70, 80, 90, 100, 110,\n",
       "                                                      None],\n",
       "                                        'max_features': ['auto', 'sqrt'],\n",
       "                                        'min_samples_leaf': [1, 2, 4, 8],\n",
       "                                        'min_samples_split': [2, 5, 10, 15, 20],\n",
       "                                        'n_estimators': [200, 400, 600, 800,\n",
       "                                                         1000, 1200, 1400, 1600,\n",
       "                                                         1800, 2000]},\n",
       "                   random_state=42, verbose=2)"
      ]
     },
     "execution_count": 34,
     "metadata": {},
     "output_type": "execute_result"
    }
   ],
   "source": [
    "from sklearn.ensemble import RandomForestClassifier\n",
    "\n",
    "rf_random = RandomizedSearchCV(estimator = RandomForestClassifier() , param_distributions = random_grid, n_iter = 100, cv = 3, verbose=2, random_state=42, n_jobs = -1)\n",
    "\n",
    "\n",
    "# Fit the random search model\n",
    "rf_random.fit(Xssn_train, yssn_train)"
   ]
  },
  {
   "cell_type": "code",
   "execution_count": 35,
   "metadata": {},
   "outputs": [
    {
     "data": {
      "text/plain": [
       "{'n_estimators': 1200,\n",
       " 'min_samples_split': 20,\n",
       " 'min_samples_leaf': 8,\n",
       " 'max_features': 'auto',\n",
       " 'max_depth': 40,\n",
       " 'criterion': 'entropy',\n",
       " 'bootstrap': False}"
      ]
     },
     "execution_count": 35,
     "metadata": {},
     "output_type": "execute_result"
    }
   ],
   "source": [
    "rf_random.best_params_"
   ]
  },
  {
   "cell_type": "code",
   "execution_count": 36,
   "metadata": {},
   "outputs": [
    {
     "name": "stderr",
     "output_type": "stream",
     "text": [
      "<ipython-input-36-ae552d3bbfa5>:11: DataConversionWarning: A column-vector y was passed when a 1d array was expected. Please change the shape of y to (n_samples,), for example using ravel().\n",
      "  rf_random.fit(Xssn_train, yssn_train)\n"
     ]
    },
    {
     "data": {
      "text/plain": [
       "<sklearn.metrics._plot.confusion_matrix.ConfusionMatrixDisplay at 0x219c132bb50>"
      ]
     },
     "execution_count": 36,
     "metadata": {},
     "output_type": "execute_result"
    },
    {
     "data": {
      "image/png": "[encoded data removed]",
      "text/plain": [
       "<Figure size 432x288 with 2 Axes>"
      ]
     },
     "metadata": {
      "needs_background": "light"
     },
     "output_type": "display_data"
    }
   ],
   "source": [
    "rf_random = RandomForestClassifier(criterion='entropy', \n",
    "                            n_estimators=1200, \n",
    "                            min_samples_leaf=8, \n",
    "                            min_samples_split=20, \n",
    "                            max_features='auto',\n",
    "                            max_depth=40,\n",
    "                            bootstrap=True,\n",
    "                            random_state=2)\n",
    "\n",
    "# Fit rf to the training set    \n",
    "rf_random.fit(Xssn_train, yssn_train)\n",
    "\n",
    "plot_confusion_matrix(rf_random, Xssn_test, yssn_test)  "
   ]
  },
  {
   "cell_type": "code",
   "execution_count": 37,
   "metadata": {},
   "outputs": [
    {
     "data": {
      "text/plain": [
       "0.773109243697479"
      ]
     },
     "execution_count": 37,
     "metadata": {},
     "output_type": "execute_result"
    }
   ],
   "source": [
    "yssn_predrf = rf_random.predict(Xssn_test)\n",
    "accuracy = accuracy_score(yssn_test,yssn_predrf)\n",
    "accuracy"
   ]
  },
  {
   "cell_type": "code",
   "execution_count": 38,
   "metadata": {},
   "outputs": [
    {
     "data": {
      "text/plain": [
       "0.6002792253569799"
      ]
     },
     "execution_count": 38,
     "metadata": {},
     "output_type": "execute_result"
    }
   ],
   "source": [
    "cohen = cohen_kappa_score(yssn_test,yssn_predrf)\n",
    "cohen"
   ]
  },
  {
   "cell_type": "code",
   "execution_count": 39,
   "metadata": {},
   "outputs": [
    {
     "data": {
      "image/png": "[encoded data removed]",
      "text/plain": [
       "<Figure size 432x288 with 1 Axes>"
      ]
     },
     "metadata": {
      "needs_background": "light"
     },
     "output_type": "display_data"
    }
   ],
   "source": [
    "importances = pd.Series(data=rf_random.feature_importances_, index= X_train.columns)\n",
    "\n",
    "# Sort importances\n",
    "importances_sorted = importances.sort_values()\n",
    "\n",
    "# Draw a horizontal barplot of importances_sorted\n",
    "importances_sorted.plot(kind='barh', color='lightgreen')\n",
    "plt.title('Features Importances')\n",
    "plt.show()"
   ]
  },
  {
   "cell_type": "code",
   "execution_count": null,
   "metadata": {},
   "outputs": [],
   "source": []
  }
 ],
 "metadata": {
  "kernelspec": {
   "display_name": "Python 3",
   "language": "python",
   "name": "python3"
  },
  "language_info": {
   "codemirror_mode": {
    "name": "ipython",
    "version": 3
   },
   "file_extension": ".py",
   "mimetype": "text/x-python",
   "name": "python",
   "nbconvert_exporter": "python",
   "pygments_lexer": "ipython3",
   "version": "3.8.5"
  }
 },
 "nbformat": 4,
 "nbformat_minor": 4
}
