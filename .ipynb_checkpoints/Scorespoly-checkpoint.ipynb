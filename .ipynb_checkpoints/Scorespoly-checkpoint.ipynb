{
 "cells": [
  {
   "cell_type": "code",
   "execution_count": 9,
   "metadata": {},
   "outputs": [
    {
     "data": {
      "text/html": [
       "<div>\n",
       "<style scoped>\n",
       "    .dataframe tbody tr th:only-of-type {\n",
       "        vertical-align: middle;\n",
       "    }\n",
       "\n",
       "    .dataframe tbody tr th {\n",
       "        vertical-align: top;\n",
       "    }\n",
       "\n",
       "    .dataframe thead th {\n",
       "        text-align: right;\n",
       "    }\n",
       "</style>\n",
       "<table border=\"1\" class=\"dataframe\">\n",
       "  <thead>\n",
       "    <tr style=\"text-align: right;\">\n",
       "      <th></th>\n",
       "      <th>misspelt</th>\n",
       "      <th>correct</th>\n",
       "      <th>length</th>\n",
       "      <th>lexical_diversity</th>\n",
       "      <th>n_sentences</th>\n",
       "      <th>nouns</th>\n",
       "      <th>verbs</th>\n",
       "      <th>adverbs</th>\n",
       "      <th>adjectives</th>\n",
       "      <th>wordnetscore</th>\n",
       "    </tr>\n",
       "    <tr>\n",
       "      <th>essay_id</th>\n",
       "      <th></th>\n",
       "      <th></th>\n",
       "      <th></th>\n",
       "      <th></th>\n",
       "      <th></th>\n",
       "      <th></th>\n",
       "      <th></th>\n",
       "      <th></th>\n",
       "      <th></th>\n",
       "      <th></th>\n",
       "    </tr>\n",
       "  </thead>\n",
       "  <tbody>\n",
       "    <tr>\n",
       "      <th>14834</th>\n",
       "      <td>6</td>\n",
       "      <td>116</td>\n",
       "      <td>123</td>\n",
       "      <td>1.37</td>\n",
       "      <td>9</td>\n",
       "      <td>28</td>\n",
       "      <td>14</td>\n",
       "      <td>8</td>\n",
       "      <td>10</td>\n",
       "      <td>3</td>\n",
       "    </tr>\n",
       "    <tr>\n",
       "      <th>14835</th>\n",
       "      <td>11</td>\n",
       "      <td>169</td>\n",
       "      <td>180</td>\n",
       "      <td>1.55</td>\n",
       "      <td>10</td>\n",
       "      <td>41</td>\n",
       "      <td>23</td>\n",
       "      <td>12</td>\n",
       "      <td>14</td>\n",
       "      <td>6</td>\n",
       "    </tr>\n",
       "    <tr>\n",
       "      <th>14836</th>\n",
       "      <td>3</td>\n",
       "      <td>163</td>\n",
       "      <td>169</td>\n",
       "      <td>1.62</td>\n",
       "      <td>9</td>\n",
       "      <td>39</td>\n",
       "      <td>23</td>\n",
       "      <td>10</td>\n",
       "      <td>9</td>\n",
       "      <td>24</td>\n",
       "    </tr>\n",
       "    <tr>\n",
       "      <th>14837</th>\n",
       "      <td>18</td>\n",
       "      <td>175</td>\n",
       "      <td>199</td>\n",
       "      <td>1.69</td>\n",
       "      <td>11</td>\n",
       "      <td>35</td>\n",
       "      <td>26</td>\n",
       "      <td>7</td>\n",
       "      <td>4</td>\n",
       "      <td>4</td>\n",
       "    </tr>\n",
       "    <tr>\n",
       "      <th>14838</th>\n",
       "      <td>4</td>\n",
       "      <td>158</td>\n",
       "      <td>162</td>\n",
       "      <td>1.74</td>\n",
       "      <td>11</td>\n",
       "      <td>35</td>\n",
       "      <td>26</td>\n",
       "      <td>8</td>\n",
       "      <td>15</td>\n",
       "      <td>8</td>\n",
       "    </tr>\n",
       "  </tbody>\n",
       "</table>\n",
       "</div>"
      ],
      "text/plain": [
       "          misspelt  correct  length  lexical_diversity  n_sentences  nouns  \\\n",
       "essay_id                                                                     \n",
       "14834            6      116     123               1.37            9     28   \n",
       "14835           11      169     180               1.55           10     41   \n",
       "14836            3      163     169               1.62            9     39   \n",
       "14837           18      175     199               1.69           11     35   \n",
       "14838            4      158     162               1.74           11     35   \n",
       "\n",
       "          verbs  adverbs  adjectives  wordnetscore  \n",
       "essay_id                                            \n",
       "14834        14        8          10             3  \n",
       "14835        23       12          14             6  \n",
       "14836        23       10           9            24  \n",
       "14837        26        7           4             4  \n",
       "14838        26        8          15             8  "
      ]
     },
     "execution_count": 9,
     "metadata": {},
     "output_type": "execute_result"
    }
   ],
   "source": [
    "import pandas as pd\n",
    "essays = pd.read_csv('trained.csv')\n",
    "essays.set_index('essay_id',inplace=True, drop=True)\n",
    "X = essays.drop(['domain1_score','essay','essay_set','normal_score','n_top500'], axis=1)\n",
    "y = essays['normal_score']\n",
    "X.head()"
   ]
  },
  {
   "cell_type": "code",
   "execution_count": 10,
   "metadata": {},
   "outputs": [],
   "source": [
    "from sklearn.model_selection import train_test_split\n",
    "\n",
    "# Split X and y into X_\n",
    "X_train, X_test, y_train, y_test = train_test_split(X, y, test_size=0.2, random_state=1)\n"
   ]
  },
  {
   "cell_type": "code",
   "execution_count": 11,
   "metadata": {},
   "outputs": [
    {
     "data": {
      "text/plain": [
       "LinearRegression()"
      ]
     },
     "execution_count": 11,
     "metadata": {},
     "output_type": "execute_result"
    }
   ],
   "source": [
    "from sklearn.linear_model import LinearRegression\n",
    "\n",
    "regression_model = LinearRegression()\n",
    "regression_model.fit(X_train, y_train)"
   ]
  },
  {
   "cell_type": "code",
   "execution_count": 15,
   "metadata": {},
   "outputs": [
    {
     "data": {
      "text/plain": [
       "0.9802623621004534"
      ]
     },
     "execution_count": 15,
     "metadata": {},
     "output_type": "execute_result"
    }
   ],
   "source": [
    "regression_model.intercept_"
   ]
  },
  {
   "cell_type": "code",
   "execution_count": 16,
   "metadata": {},
   "outputs": [
    {
     "data": {
      "text/plain": [
       "array([ 0.04436805,  0.04869135, -0.05002495, -0.16109472,  0.0214928 ,\n",
       "        0.02224063,  0.00851278,  0.02867632,  0.03380014,  0.10293278])"
      ]
     },
     "execution_count": 16,
     "metadata": {},
     "output_type": "execute_result"
    }
   ],
   "source": [
    "regression_model.coef_"
   ]
  },
  {
   "cell_type": "code",
   "execution_count": 29,
   "metadata": {},
   "outputs": [
    {
     "name": "stdout",
     "output_type": "stream",
     "text": [
      "0.5476631368037861\n"
     ]
    }
   ],
   "source": [
    "from sklearn.metrics import r2_score,accuracy_score\n",
    "print(regression_model.score(X_test, y_test))\n",
    "y_pred = regression_model.predict(X_test)"
   ]
  },
  {
   "cell_type": "code",
   "execution_count": 18,
   "metadata": {},
   "outputs": [
    {
     "data": {
      "text/plain": [
       "0.6615578668610803"
      ]
     },
     "execution_count": 18,
     "metadata": {},
     "output_type": "execute_result"
    }
   ],
   "source": [
    "from sklearn.metrics import mean_squared_error\n",
    "\n",
    "y_predict = regression_model.predict(X_test)\n",
    "\n",
    "regression_model_mse = mean_squared_error(y_predict, y_test)\n",
    "\n",
    "regression_model_mse\n",
    "import math\n",
    "\n",
    "math.sqrt(regression_model_mse)"
   ]
  },
  {
   "cell_type": "code",
   "execution_count": 28,
   "metadata": {},
   "outputs": [
    {
     "name": "stdout",
     "output_type": "stream",
     "text": [
      "rmse = {} 0.6310288655954812\n",
      "r2_score = {} 0.5771055339690739\n",
      "rmse = {} 0.5902978010398556\n",
      "r2_score = {} 0.6299368161507126\n",
      "rmse = {} 0.5428909344805118\n",
      "r2_score = {} 0.686989627505179\n",
      "rmse = {} 0.3777662785806713\n",
      "r2_score = {} 0.848441629956787\n",
      "rmse = {} 0.0007012951920560749\n",
      "r2_score = {} 0.9999994776816628\n",
      "rmse = {} 0.003949987770746355\n",
      "r2_score = {} 0.9999834299029429\n",
      "rmse = {} 0.01067836787495668\n",
      "r2_score = {} 0.9998789002331426\n",
      "rmse = {} 0.03620256990743142\n",
      "r2_score = {} 0.9986080861640798\n",
      "rmse = {} 0.07564082459258668\n",
      "r2_score = {} 0.9939236041365267\n"
     ]
    }
   ],
   "source": [
    "from sklearn.preprocessing import PolynomialFeatures\n",
    "for val in range(1,10):\n",
    "    poly_reg = PolynomialFeatures(degree=val)\n",
    "    X_poly = poly_reg.fit_transform(X)\n",
    "    pol_reg = LinearRegression()\n",
    "    pol_reg.fit(X_poly, y)\n",
    "    y_predict = pol_reg.predict(X_poly)\n",
    "    print(\"rmse = {}\",math.sqrt(mean_squared_error(y_predict, y)))\n",
    "    print(\"r2_score = {}\",r2_score(y,y_predict))"
   ]
  },
  {
   "cell_type": "code",
   "execution_count": null,
   "metadata": {},
   "outputs": [
    {
     "name": "stdout",
     "output_type": "stream",
     "text": [
      "rmse = {} 0.6615578668610803\n",
      "r2_score = {} 0.5476631368037861\n",
      "rmse = {} 0.652343096762048\n",
      "r2_score = {} 0.560176482458684\n",
      "rmse = {} 0.7656599505085565\n",
      "r2_score = {} 0.3941038852743344\n",
      "rmse = {} 5.973572184830538\n",
      "r2_score = {} -35.88030787221223\n",
      "rmse = {} 90.61313557393319\n",
      "r2_score = {} -8485.10934856172\n",
      "rmse = {} 1450.9117135240137\n",
      "r2_score = {} -2175745.4290091866\n",
      "rmse = {} 28155.2673024691\n",
      "r2_score = {} -819305017.996069\n"
     ]
    }
   ],
   "source": [
    "for val in range(1,10):\n",
    "    poly_reg = PolynomialFeatures(degree=val)\n",
    "    X_poly = poly_reg.fit_transform(X_train)\n",
    "    pol_reg = LinearRegression()\n",
    "    pol_reg.fit(X_poly, y_train)\n",
    "    y_predict = pol_reg.predict(poly_reg.transform(X_test))\n",
    "    print(\"rmse = {}\",math.sqrt(mean_squared_error(y_predict, y_test)))\n",
    "    print(\"r2_score = {}\",r2_score(y_test,y_predict))"
   ]
  },
  {
   "cell_type": "code",
   "execution_count": null,
   "metadata": {},
   "outputs": [],
   "source": []
  },
  {
   "cell_type": "code",
   "execution_count": null,
   "metadata": {},
   "outputs": [],
   "source": []
  }
 ],
 "metadata": {
  "kernelspec": {
   "display_name": "Python 3",
   "language": "python",
   "name": "python3"
  },
  "language_info": {
   "codemirror_mode": {
    "name": "ipython",
    "version": 3
   },
   "file_extension": ".py",
   "mimetype": "text/x-python",
   "name": "python",
   "nbconvert_exporter": "python",
   "pygments_lexer": "ipython3",
   "version": "3.7.7"
  }
 },
 "nbformat": 4,
 "nbformat_minor": 4
}
